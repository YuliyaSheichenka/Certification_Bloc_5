{
 "cells": [
  {
   "cell_type": "code",
   "execution_count": 2,
   "metadata": {},
   "outputs": [
    {
     "name": "stdout",
     "output_type": "stream",
     "text": [
      "{'Prediction (Price)': 146.33993530273438}\n"
     ]
    }
   ],
   "source": [
    "import requests\n",
    "\n",
    "response = requests.post(\"https://getaround-api-test.herokuapp.com/predict\", \n",
    "                         json={\n",
    "                                \"model_key\": \"Peugeot\",\n",
    "                                \"mileage\": 64832,\n",
    "                                \"engine_power\": 135,\n",
    "                                \"fuel\": \"petrol\",\n",
    "                                \"paint_color\": \"red\",\n",
    "                                \"car_type\": \"convertible\",\n",
    "                                \"private_parking_available\": True,\n",
    "                                \"has_gps\": False,\n",
    "                                \"has_air_conditioning\": False,\n",
    "                                \"automatic_car\": True,\n",
    "                                \"has_getaround_connect\": True,\n",
    "                                \"has_speed_regulator\": True,\n",
    "                                \"winter_tires\": False\n",
    "                                }\n",
    "                                )\n",
    "\n",
    "print(response.json())"
   ]
  }
 ],
 "metadata": {
  "kernelspec": {
   "display_name": "Python 3",
   "language": "python",
   "name": "python3"
  },
  "language_info": {
   "codemirror_mode": {
    "name": "ipython",
    "version": 3
   },
   "file_extension": ".py",
   "mimetype": "text/x-python",
   "name": "python",
   "nbconvert_exporter": "python",
   "pygments_lexer": "ipython3",
   "version": "3.10.10"
  },
  "orig_nbformat": 4
 },
 "nbformat": 4,
 "nbformat_minor": 2
}
