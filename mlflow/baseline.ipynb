{
 "cells": [
  {
   "cell_type": "code",
   "execution_count": 7,
   "metadata": {},
   "outputs": [
    {
     "name": "stderr",
     "output_type": "stream",
     "text": [
      "2023/03/13 17:17:52 INFO mlflow.utils.autologging_utils: Created MLflow autologging run with ID 'b3d03a29b300476d8ad17f250cf1a5bc', which will track hyperparameters, performance metrics, model artifacts, and lineage information for the current sklearn workflow\n",
      "2023/03/13 17:17:52 WARNING mlflow.sklearn: Training metrics will not be recorded because training labels were not specified. To automatically record training metrics, provide training labels as inputs to the model training function.\n",
      "2023/03/13 17:17:52 WARNING mlflow.sklearn: Failed to infer model signature: the trained model does not specify a `predict` function, which is required in order to infer the signature\n",
      "2023/03/13 17:17:52 WARNING mlflow.sklearn: Model was missing function: predict. Not logging python_function flavor!\n"
     ]
    },
    {
     "name": "stdout",
     "output_type": "stream",
     "text": [
      "Separating labels from features...\n",
      "...Done.\n",
      "\n",
      "Found numeric features  ['mileage', 'engine_power']\n",
      "Found categorical features  ['model_key', 'fuel', 'paint_color', 'car_type', 'private_parking_available', 'has_gps', 'has_air_conditioning', 'automatic_car', 'has_getaround_connect', 'has_speed_regulator', 'winter_tires']\n"
     ]
    },
    {
     "name": "stderr",
     "output_type": "stream",
     "text": [
      "2023/03/13 17:17:55 INFO mlflow.utils.autologging_utils: Created MLflow autologging run with ID 'b265e4f28c3741ddb0189eadcd998954', which will track hyperparameters, performance metrics, model artifacts, and lineage information for the current sklearn workflow\n",
      "2023/03/13 17:17:55 WARNING mlflow.sklearn: Training metrics will not be recorded because training labels were not specified. To automatically record training metrics, provide training labels as inputs to the model training function.\n",
      "2023/03/13 17:17:55 WARNING mlflow.sklearn: Failed to infer model signature: the trained model does not specify a `predict` function, which is required in order to infer the signature\n",
      "2023/03/13 17:17:55 WARNING mlflow.sklearn: Model was missing function: predict. Not logging python_function flavor!\n"
     ]
    },
    {
     "name": "stdout",
     "output_type": "stream",
     "text": [
      "Multivariate Linear Regression model\n",
      "R2 on train: 0.7148524507554002\n",
      "R2 on test: 0.7092296278847003\n",
      "file:///C:/Study/Jedha/Fullstack/Projects/Bloc_5/getaround_working_copy/getaround/mlflow/mlruns/614718149335542315/761c49831f2040aba12a00d508b8979e/artifacts\n"
     ]
    }
   ],
   "source": [
    "import os\n",
    "import mlflow\n",
    "from mlflow import log_metric, log_param, log_artifacts\n",
    "import pandas as pd\n",
    "\n",
    "from sklearn.model_selection import train_test_split\n",
    "from sklearn.pipeline import Pipeline\n",
    "from sklearn.impute import SimpleImputer\n",
    "from sklearn.preprocessing import  OneHotEncoder, StandardScaler, LabelEncoder\n",
    "from sklearn.compose import ColumnTransformer\n",
    "from sklearn.linear_model import LinearRegression\n",
    "from sklearn.metrics import r2_score\n",
    "\n",
    "\n",
    "# Load dataset\n",
    "df = pd.read_csv(\"get_around_pricing_project_cleaned.csv\")\n",
    "\n",
    "# Separate target variable Y from features X\n",
    "print(\"Separating labels from features...\")\n",
    "features_list = df.columns[:-1]\n",
    "target_variable = df.columns[-1]\n",
    "\n",
    "X = df.loc[:,features_list]\n",
    "Y = df.loc[:,target_variable]\n",
    "\n",
    "print(\"...Done.\")\n",
    "print()\n",
    "\n",
    "# Automatically detect names of numeric/categorical columns\n",
    "numeric_features = []\n",
    "categorical_features = []\n",
    "for i,t in X.dtypes.items():\n",
    "    if ('float' in str(t)) or ('int' in str(t)) :\n",
    "        numeric_features.append(i)\n",
    "    else :\n",
    "        categorical_features.append(i)\n",
    "\n",
    "print('Found numeric features ', numeric_features)\n",
    "print('Found categorical features ', categorical_features)\n",
    "\n",
    "# Train/test splitting\n",
    "X_train, X_test, Y_train, Y_test = train_test_split(X, Y, test_size=0.2, random_state=0)\n",
    "\n",
    "# Creating pipeline for numeric features\n",
    "numeric_transformer = Pipeline(steps=[\n",
    "    ('scaler', StandardScaler())])\n",
    "\n",
    "# Create pipeline for categorical features\n",
    "categorical_transformer = Pipeline(\n",
    "    steps=[\n",
    "    ('encoder', OneHotEncoder(drop='first'))\n",
    "    ])\n",
    "\n",
    "# Use ColumnTransformer to make a preprocessor object that describes all the treatments to be done\n",
    "preprocessor = ColumnTransformer(\n",
    "    transformers=[\n",
    "        ('num', numeric_transformer, numeric_features),\n",
    "        ('cat', categorical_transformer, categorical_features)])\n",
    "    \n",
    "X_train = preprocessor.fit_transform(X_train)\n",
    "\n",
    "X_test = preprocessor.transform(X_test)\n",
    "\n",
    "\n",
    "# Set your variables for your environment\n",
    "EXPERIMENT_NAME=\"baseline_multivariate_linear_regression\"\n",
    "\n",
    "# Set tracking URI to your Heroku application\n",
    "APP_URI =  os.getenv(\"APP_URI\")\n",
    "mlflow.set_tracking_uri(APP_URI)\n",
    "\n",
    "# Set experiment's info \n",
    "mlflow.set_experiment(EXPERIMENT_NAME)\n",
    "\n",
    "# Get our experiment info\n",
    "experiment = mlflow.get_experiment_by_name(EXPERIMENT_NAME)\n",
    "\n",
    "# Call mlflow autolog\n",
    "mlflow.sklearn.autolog()\n",
    "\n",
    "with mlflow.start_run(experiment_id = experiment.experiment_id):\n",
    "    # Specified Parameters \n",
    "    c = 0.1\n",
    "\n",
    "    # Instanciate and fit the model \n",
    "    regressor = LinearRegression()\n",
    "    regressor.fit(X_train, Y_train)\n",
    "\n",
    "    # Predictions on train and test set\n",
    "    Y_train_pred = regressor.predict(X_train)\n",
    "\n",
    "    Y_test_pred = regressor.predict(X_test)\n",
    "\n",
    "\n",
    "    # Model metrics\n",
    "    r2_train = r2_score(Y_train, Y_train_pred)\n",
    "    r2_test = r2_score(Y_test, Y_test_pred)\n",
    "\n",
    "    # Print results \n",
    "    print(\"Multivariate Linear Regression model\")\n",
    "    print(\"R2 on train: {}\".format(r2_train))\n",
    "    print(\"R2 on test: {}\".format(r2_test))\n",
    "\n",
    "    # Log Metric \n",
    "    mlflow.log_metric(\"R2 on train\", r2_train)\n",
    "    mlflow.log_metric(\"R2 on test\", r2_test)\n",
    "\n",
    "    # Log Param\n",
    "    mlflow.log_param(\"C\", c)\n",
    "\n",
    "    # Log model \n",
    "    mlflow.sklearn.log_model(regressor, \"model\")\n",
    "\n",
    "    print(mlflow.get_artifact_uri())\n",
    "\n"
   ]
  },
  {
   "cell_type": "code",
   "execution_count": 8,
   "metadata": {},
   "outputs": [
    {
     "data": {
      "text/plain": [
       "scipy.sparse._csr.csr_matrix"
      ]
     },
     "execution_count": 8,
     "metadata": {},
     "output_type": "execute_result"
    }
   ],
   "source": [
    "type(X_train)"
   ]
  },
  {
   "cell_type": "code",
   "execution_count": 10,
   "metadata": {},
   "outputs": [
    {
     "name": "stdout",
     "output_type": "stream",
     "text": [
      "  (0, 0)\t0.9428963206116653\n",
      "  (0, 1)\t-0.23310784743001145\n",
      "  (0, 4)\t1.0\n",
      "  (0, 32)\t1.0\n",
      "  (0, 38)\t1.0\n",
      "  (0, 45)\t1.0\n",
      "  (0, 50)\t1.0\n",
      "  (1, 0)\t-0.18076700154970962\n",
      "  (1, 1)\t-0.23310784743001145\n",
      "  (1, 4)\t1.0\n",
      "  (1, 28)\t1.0\n",
      "  (1, 38)\t1.0\n",
      "  (1, 44)\t1.0\n",
      "  (1, 45)\t1.0\n",
      "  (1, 50)\t1.0\n",
      "  (2, 0)\t-0.5497853496018934\n",
      "  (2, 1)\t0.15214060182196848\n",
      "  (2, 19)\t1.0\n",
      "  (2, 32)\t1.0\n",
      "  (2, 40)\t1.0\n",
      "  (2, 44)\t1.0\n",
      "  (2, 45)\t1.0\n",
      "  (2, 48)\t1.0\n",
      "  (2, 49)\t1.0\n",
      "  (2, 50)\t1.0\n",
      "  :\t:\n",
      "  (3864, 50)\t1.0\n",
      "  (3865, 0)\t-0.03036230063637398\n",
      "  (3865, 1)\t-0.23310784743001145\n",
      "  (3865, 19)\t1.0\n",
      "  (3865, 29)\t1.0\n",
      "  (3865, 38)\t1.0\n",
      "  (3865, 44)\t1.0\n",
      "  (3865, 45)\t1.0\n",
      "  (3865, 48)\t1.0\n",
      "  (3865, 50)\t1.0\n",
      "  (3866, 0)\t1.3383492292764143\n",
      "  (3866, 1)\t-0.4899401469313314\n",
      "  (3866, 19)\t1.0\n",
      "  (3866, 28)\t1.0\n",
      "  (3866, 40)\t1.0\n",
      "  (3866, 44)\t1.0\n",
      "  (3866, 45)\t1.0\n",
      "  (3866, 50)\t1.0\n",
      "  (3867, 0)\t-0.7618030411176446\n",
      "  (3867, 1)\t-1.1320208956846314\n",
      "  (3867, 19)\t1.0\n",
      "  (3867, 29)\t1.0\n",
      "  (3867, 40)\t1.0\n",
      "  (3867, 45)\t1.0\n",
      "  (3867, 50)\t1.0\n"
     ]
    }
   ],
   "source": [
    "print(X_train)"
   ]
  }
 ],
 "metadata": {
  "kernelspec": {
   "display_name": "Python 3",
   "language": "python",
   "name": "python3"
  },
  "language_info": {
   "codemirror_mode": {
    "name": "ipython",
    "version": 3
   },
   "file_extension": ".py",
   "mimetype": "text/x-python",
   "name": "python",
   "nbconvert_exporter": "python",
   "pygments_lexer": "ipython3",
   "version": "3.10.10"
  },
  "orig_nbformat": 4
 },
 "nbformat": 4,
 "nbformat_minor": 2
}
